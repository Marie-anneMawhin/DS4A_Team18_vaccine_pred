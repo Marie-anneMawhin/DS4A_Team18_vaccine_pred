{
 "cells": [
  {
   "cell_type": "markdown",
   "metadata": {
    "id": "aYMglqDYQT44"
   },
   "source": [
    "# H1N1 XGB TUNING DS4A Project - Team 18 - Vaccine Acceptance\n",
    "\n",
    "To tune XGB, first choose a wide range of hyperparameters run the CV then choose smaller range.\n",
    "\n",
    "see https://www.analyticsvidhya.com/blog/2016/03/complete-guide-parameter-tuning-xgboost-with-codes-python/"
   ]
  },
  {
   "cell_type": "markdown",
   "metadata": {},
   "source": [
    "---\n",
    "Authorship: Marie-anne\n",
    "\n",
    "---"
   ]
  },
  {
   "cell_type": "code",
   "execution_count": null,
   "metadata": {
    "id": "9AtRF0x8jc8N"
   },
   "outputs": [],
   "source": [
    "import pandas as pd\n",
    "import numpy as np\n",
    "import seaborn as sns\n",
    "import matplotlib.pyplot as plt\n",
    "import os\n",
    "\n",
    "import xgboost as xgb\n",
    "\n",
    "from sklearn.preprocessing import StandardScaler\n",
    "from sklearn.pipeline import Pipeline\n",
    "\n",
    "from sklearn.model_selection import train_test_split\n",
    "from sklearn import metrics\n",
    "from sklearn.model_selection import cross_val_score\n",
    "from sklearn.model_selection import RepeatedStratifiedKFold, StratifiedKFold\n",
    "from sklearn.model_selection import RandomizedSearchCV, GridSearchCV\n",
    "\n",
    "from sklearn.inspection import permutation_importance"
   ]
  },
  {
   "cell_type": "code",
   "execution_count": null,
   "metadata": {
    "id": "yk56PIHyYkn0"
   },
   "outputs": [],
   "source": [
    "#Import dfs\n",
    "features = pd.read_csv(os.path.join(os.getcwd(), 'Data/training_set_features.csv'))\n",
    "labels = pd.read_csv(os.path.join(os.getcwd(), 'Data/training_set_labels.csv'))\n",
    "imp_feat = pd.read_csv(os.path.join(os.getcwd(), 'Data/imputed_train_hot_encoded.csv'))\n",
    "imp_feat_not_hot = pd.read_csv(os.path.join(os.getcwd(), 'Data/imputed_train.csv'))"
   ]
  },
  {
   "cell_type": "code",
   "execution_count": null,
   "metadata": {},
   "outputs": [],
   "source": [
    "# set label index\n",
    "labels.set_index('respondent_id', inplace=True)"
   ]
  },
  {
   "cell_type": "code",
   "execution_count": null,
   "metadata": {},
   "outputs": [],
   "source": [
    "#IMPUTED \n",
    "imp_feat.set_index('Unnamed: 0', inplace=True)\n",
    "imp_feat.sort_index(inplace=True)\n"
   ]
  },
  {
   "cell_type": "code",
   "execution_count": null,
   "metadata": {},
   "outputs": [],
   "source": [
    "#merge_df options\n",
    "\n",
    "merged_df = imp_feat.join(labels)\n",
    "#merged_df = imp_feat_small.join(labels)\n",
    "\n",
    "\n",
    "df_h1n1 = merged_df.reset_index(drop=True).drop(['seasonal_vaccine'], axis=1)\n",
    "df_h1n1.shape"
   ]
  },
  {
   "cell_type": "markdown",
   "metadata": {},
   "source": [
    "### Train test split"
   ]
  },
  {
   "cell_type": "code",
   "execution_count": null,
   "metadata": {},
   "outputs": [],
   "source": [
    "X = df_h1n1.iloc[:, :-1]\n",
    "y= df_h1n1.iloc[:,-1]\n",
    "\n",
    "X_train, X_val, y_train, y_val = train_test_split(X, y,\n",
    "                                                    test_size=0.1,\n",
    "                                                    stratify=y,\n",
    "                                                    random_state=42\n",
    "                                                 )\n",
    "# get feature names\n",
    "feature_names=list(X_train)\n",
    "\n",
    "#check shape\n",
    "print(X.shape)\n",
    "X_train.shape"
   ]
  },
  {
   "cell_type": "code",
   "execution_count": null,
   "metadata": {},
   "outputs": [],
   "source": [
    "# IMPUTED Scaling and \n",
    "X_train = StandardScaler().fit_transform(X_train)\n",
    "print(X_train.shape)\n",
    "X_train"
   ]
  },
  {
   "cell_type": "markdown",
   "metadata": {},
   "source": [
    "### xgb CV"
   ]
  },
  {
   "cell_type": "code",
   "execution_count": null,
   "metadata": {},
   "outputs": [],
   "source": [
    "def XGB_CV(model, boost=200, early_stopping_rounds=30):\n",
    "    '''set up xgb.cv\n",
    "    Args:\n",
    "        - model: initiated xgb model\n",
    "        - boost : number of round (default 200)\n",
    "        - early_stopping_rounds: stop if model did not improve (default 50) \n",
    "    return result table\n",
    "    '''\n",
    "    params = model.get_xgb_params()\n",
    "    \n",
    "    df_matrix = xgb.DMatrix(data=X_train,label=y_train, \n",
    "                        feature_names=feature_names\n",
    "                       )\n",
    "    tuned_xgb = xgb.cv(dtrain=df_matrix,\n",
    "                   params=params, \n",
    "                   num_boost_round=boost, \n",
    "                   stratified=True,\n",
    "                   nfold = 5,\n",
    "                    folds = StratifiedKFold(n_splits=10),\n",
    "                   metrics=['auc', 'aucpr'],\n",
    "                    early_stopping_rounds=early_stopping_rounds,\n",
    "                    verbose_eval=True,\n",
    "                   as_pandas=True, seed=42)\n",
    "    \n",
    "    model.set_params(num_parallel_tree=boost) \n",
    "    \n",
    "    return tuned_xgb"
   ]
  },
  {
   "cell_type": "markdown",
   "metadata": {},
   "source": [
    "### GridSearch CV"
   ]
  },
  {
   "cell_type": "code",
   "execution_count": null,
   "metadata": {},
   "outputs": [],
   "source": [
    "def grid_csv(model, params):\n",
    "    '''set up sklearn gridsearchCV\n",
    "    Args:\n",
    "        - model: initiated xgb model\n",
    "        - params : dict of parameters\n",
    "    return best estimator and table of results\n",
    "    '''\n",
    "    \n",
    "    GSCV = GridSearchCV(model, param_grid = params, scoring = 'average_precision', cv = 5, n_jobs=-1, verbose=True)\n",
    "    best_clf = GSCV.fit(X_train, y_train)\n",
    "    best_hyperparams = best_clf.best_params_\n",
    "    best_score = best_clf.best_score_\n",
    "    estimator = best_clf.best_estimator_\n",
    "    print(best_score, best_hyperparams, estimator)\n",
    "    table = best_clf.cv_results_\n",
    "    return best_hyperparams, table"
   ]
  },
  {
   "cell_type": "code",
   "execution_count": null,
   "metadata": {},
   "outputs": [],
   "source": [
    "clf = xgb.XGBClassifier(objective= 'binary:logistic',\n",
    "                        scale_pos_weight=4,\n",
    "                        eval_metric = 'aucpr',\n",
    "                        learning_rate = 0.01, \n",
    "                        max_depth=3,\n",
    "                        n_estimators=1475,\n",
    "                        min_child_weight=1,\n",
    "                        gamma=0.7,\n",
    "                        alpha=1e-06,\n",
    "                        subsample=0.5,\n",
    "                        colsample_bytree=0.85,\n",
    "                        nthread=4,\n",
    "                        seed=42, metrics='auc')"
   ]
  },
  {
   "cell_type": "code",
   "execution_count": null,
   "metadata": {},
   "outputs": [],
   "source": [
    "#Save at the end\n",
    "xgbCV = XGB_CV(clf, boost=2000)\n",
    "xgbCV.to_csv('Results/h1n1/XGB_CV_h1n1.csv')\n"
   ]
  },
  {
   "cell_type": "code",
   "execution_count": null,
   "metadata": {},
   "outputs": [],
   "source": [
    "param_test1 = {\n",
    " 'max_depth':range(3,15,2),\n",
    " 'min_child_weight':range(1,6,2)\n",
    "}\n",
    "grid_csv(clf, param_test1)"
   ]
  },
  {
   "cell_type": "code",
   "execution_count": null,
   "metadata": {},
   "outputs": [],
   "source": [
    "param_test2 = {\n",
    " 'max_depth':[3, 4, 5],\n",
    " 'min_child_weight':[1,2]\n",
    "}\n",
    "grid_csv(clf, param_test2)"
   ]
  },
  {
   "cell_type": "code",
   "execution_count": null,
   "metadata": {},
   "outputs": [],
   "source": [
    "param_test3 = {\n",
    " 'gamma': np.arange(0.1, 1, 0.2)\n",
    "}\n",
    "grid_csv(clf, param_test3)"
   ]
  },
  {
   "cell_type": "code",
   "execution_count": null,
   "metadata": {},
   "outputs": [],
   "source": [
    "param_test4 = {\n",
    " 'subsample': np.arange(0.3, 0.5, 0.05),\n",
    "   'colsample_bytree': np.arange(0.7, 0.9, 0.05) \n",
    "}\n",
    "grid_csv(clf, param_test4)"
   ]
  },
  {
   "cell_type": "code",
   "execution_count": null,
   "metadata": {},
   "outputs": [],
   "source": [
    "param_test5 = {\n",
    " 'alpha':[1e-8, 1e-7, 1e-6, 1e-5, 1e-4]\n",
    "}\n",
    "grid_csv(clf, param_test5)"
   ]
  },
  {
   "cell_type": "markdown",
   "metadata": {},
   "source": [
    "**params** <p>\n",
    "- max depth:3\n",
    "- min_child_weight : 1\n",
    "- gamma: 0.7 \n",
    "- subsample: 0.5\n",
    "- colsample_bytree: 0.85\n",
    "- alpha:1e-56\n",
    "- n_estimator: 1060\n",
    "    \n",
    "\n"
   ]
  },
  {
   "cell_type": "code",
   "execution_count": null,
   "metadata": {},
   "outputs": [],
   "source": []
  }
 ],
 "metadata": {
  "colab": {
   "collapsed_sections": [],
   "name": "DS4A-Team18-Vaccine.ipynb",
   "provenance": []
  },
  "kernelspec": {
   "display_name": "ML",
   "language": "python",
   "name": "ml"
  },
  "language_info": {
   "codemirror_mode": {
    "name": "ipython",
    "version": 3
   },
   "file_extension": ".py",
   "mimetype": "text/x-python",
   "name": "python",
   "nbconvert_exporter": "python",
   "pygments_lexer": "ipython3",
   "version": "3.8.5"
  }
 },
 "nbformat": 4,
 "nbformat_minor": 4
}
