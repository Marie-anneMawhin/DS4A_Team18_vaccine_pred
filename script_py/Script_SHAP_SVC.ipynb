{
 "cells": [
  {
   "cell_type": "code",
   "execution_count": 2,
   "metadata": {
    "id": "9AtRF0x8jc8N"
   },
   "outputs": [],
   "source": [
    "import pandas as pd\n",
    "import numpy as np\n",
    "import os\n",
    "import shap\n",
    "\n",
    "from sklearn.svm import SVC\n",
    "from sklearn.pipeline import Pipeline\n",
    "\n",
    "from sklearn.model_selection import train_test_split\n",
    "\n",
    "from sklearn.inspection import permutation_importance"
   ]
  },
  {
   "cell_type": "code",
   "execution_count": 3,
   "metadata": {
    "id": "yk56PIHyYkn0"
   },
   "outputs": [],
   "source": [
    "#Import dfs\n",
    "labels = pd.read_csv(os.path.join(os.getcwd(), 'Data/training_set_labels.csv'))\n",
    "imp_feat = pd.read_csv(os.path.join(os.getcwd(), 'Data/imputed_train_hot_encoded.csv'))"
   ]
  },
  {
   "cell_type": "code",
   "execution_count": 4,
   "metadata": {},
   "outputs": [],
   "source": [
    "# set label index\n",
    "labels.set_index('respondent_id', inplace=True)"
   ]
  },
  {
   "cell_type": "code",
   "execution_count": 5,
   "metadata": {},
   "outputs": [],
   "source": [
    "#IMPUTED \n",
    "imp_feat.set_index('Unnamed: 0', inplace=True)\n",
    "imp_feat.sort_index(inplace=True)"
   ]
  },
  {
   "cell_type": "code",
   "execution_count": 6,
   "metadata": {},
   "outputs": [
    {
     "data": {
      "text/plain": [
       "(24036, 45)"
      ]
     },
     "execution_count": 6,
     "metadata": {},
     "output_type": "execute_result"
    }
   ],
   "source": [
    "#merge_df options\n",
    "\n",
    "merged_df = imp_feat.join(labels)\n",
    "#merged_df = imp_feat_small.join(labels)\n",
    "\n",
    "\n",
    "df_h1n1 = merged_df.reset_index(drop=True).drop(['seasonal_vaccine'], axis=1)\n",
    "print(df_h1n1.shape)"
   ]
  },
  {
   "cell_type": "code",
   "execution_count": 7,
   "metadata": {},
   "outputs": [
    {
     "name": "stdout",
     "output_type": "stream",
     "text": [
      "(24036, 44)\n"
     ]
    },
    {
     "data": {
      "text/plain": [
       "(21632, 44)"
      ]
     },
     "execution_count": 7,
     "metadata": {},
     "output_type": "execute_result"
    }
   ],
   "source": [
    "X = df_h1n1.iloc[:, :-1]\n",
    "y= df_h1n1.iloc[:,-1]\n",
    "\n",
    "X_train, X_val, y_train, y_val = train_test_split(X, y,\n",
    "                                                    test_size=0.1,\n",
    "                                                    stratify=y,\n",
    "                                                    random_state=42\n",
    "                                                 )\n",
    "# get feature names\n",
    "feature_names=list(X_train)\n",
    "\n",
    "#check shape\n",
    "print(X.shape)\n",
    "print(X_train.shape)"
   ]
  },
  {
   "cell_type": "code",
   "execution_count": 8,
   "metadata": {},
   "outputs": [
    {
     "name": "stdout",
     "output_type": "stream",
     "text": [
      "(21632, 44)\n"
     ]
    }
   ],
   "source": [
    "# # IMPUTED Scaling and \n",
    "X_train = StandardScaler().fit_transform(X_train)\n",
    "print(X_train.shape)\n",
    "\n",
    "X_val = StandardScaler().fit_transform(X_val)"
   ]
  },
  {
   "cell_type": "code",
   "execution_count": 10,
   "metadata": {},
   "outputs": [],
   "source": [
    "clf =  SVC(kernel='linear', C=0.2).fit(X_train_df, y_train)\n",
    "X_train_summary = shap.kmeans(X_train, 10)\n",
    "explainer = shap.KernelExplainer(model.predict_proba, X_train_summary)\n",
    "shap_values_train = explainer.shap_values(X_train)\n",
    "shap_values_test = explainer.shap_values(X_val)\n",
    "\n",
    "df_SVC = pd.DataFrame(shap_values_train[0]).mean(0), index=X.columns, columns=['SVC']).sort_values('SVC', ascending=False)\n",
    "df_SVC.to_csv('SVC.csv')"
   ]
  }
 ],
 "metadata": {
  "colab": {
   "collapsed_sections": [],
   "name": "DS4A-Team18-Vaccine.ipynb",
   "provenance": []
  },
  "kernelspec": {
   "display_name": "ML",
   "language": "python",
   "name": "ml"
  },
  "language_info": {
   "codemirror_mode": {
    "name": "ipython",
    "version": 3
   },
   "file_extension": ".py",
   "mimetype": "text/x-python",
   "name": "python",
   "nbconvert_exporter": "python",
   "pygments_lexer": "ipython3",
   "version": "3.8.5"
  }
 },
 "nbformat": 4,
 "nbformat_minor": 4
}
